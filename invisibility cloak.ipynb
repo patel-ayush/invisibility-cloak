{
 "cells": [
  {
   "cell_type": "code",
   "execution_count": 3,
   "metadata": {},
   "outputs": [],
   "source": [
    "import cv2\n",
    "import numpy as np\n",
    "import time\n",
    "\n",
    "cap=cv2.VideoCapture(0)\n",
    "\n",
    "time.sleep(2)\n",
    "b=0\n",
    "for i in range(30):\n",
    "    ret,b=cap.read()\n",
    "    \n",
    "while(cap.isOpened()):\n",
    "    \n",
    "    ret,img=cap.read()\n",
    "    if not ret:\n",
    "        break\n",
    "    hsv=cv2.cvtColor(img,cv2.COLOR_BGR2HSV)\n",
    "    \n",
    "    low=np.array([0,120,70])\n",
    "    high=np.array([10,255,255])\n",
    "\n",
    "    mask_1=cv2.inRange(hsv,low,high)\n",
    "    \n",
    "    high=np.array([170,120,70])\n",
    "    low=np.array([180,255,255])\n",
    "    mask_2=cv2.inRange(hsv,low,high)\n",
    "\n",
    "    mask1=mask_1+mask_2\n",
    "\n",
    "    mask1=cv2.morphologyEx(mask1,cv2.MORPH_OPEN,np.ones((3,3),np.uint8),iterations=2)\n",
    "    mask1=cv2.morphologyEx(mask1,cv2.MORPH_DILATE,np.ones((3,3),np.uint8),iterations=1)\n",
    "\n",
    "    maskf=cv2.bitwise_not(mask1)\n",
    "\n",
    "    res1=cv2.bitwise_and(b,b,mask=mask1)\n",
    "    res2=cv2.bitwise_and(img,img,mask=maskf)\n",
    "\n",
    "    fo=cv2.addWeighted(res1,1,res2,1,0)\n",
    "\n",
    "    cv2.imshow(\"MAGIC\",fo)\n",
    "    k=cv2.waitKey(10)\n",
    "    if k==27:\n",
    "        break\n",
    "cap.release()\n",
    "cv2.destroyAllWindows()\n",
    "   "
   ]
  }
 ],
 "metadata": {
  "kernelspec": {
   "display_name": "Python 3",
   "language": "python",
   "name": "python3"
  },
  "language_info": {
   "codemirror_mode": {
    "name": "ipython",
    "version": 3
   },
   "file_extension": ".py",
   "mimetype": "text/x-python",
   "name": "python",
   "nbconvert_exporter": "python",
   "pygments_lexer": "ipython3",
   "version": "3.7.6"
  }
 },
 "nbformat": 4,
 "nbformat_minor": 4
}
